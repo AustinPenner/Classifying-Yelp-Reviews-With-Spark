{
 "cells": [
  {
   "cell_type": "code",
   "execution_count": 1,
   "metadata": {},
   "outputs": [],
   "source": [
    "import numpy as np\n",
    "import pandas as pd\n",
    "import matplotlib.pyplot as plt\n",
    "from pymongo import MongoClient"
   ]
  },
  {
   "cell_type": "code",
   "execution_count": 6,
   "metadata": {},
   "outputs": [],
   "source": [
    "client = MongoClient()\n",
    "db = client['yelp']\n",
    "user = db['user']\n",
    "bus = db['business']\n",
    "rev = db['review']"
   ]
  },
  {
   "cell_type": "code",
   "execution_count": 70,
   "metadata": {},
   "outputs": [
    {
     "name": "stdout",
     "output_type": "stream",
     "text": [
      "Records in user: 1637138\n",
      "Records in bus:  192609\n",
      "Records in rev:  6685900\n"
     ]
    }
   ],
   "source": [
    "print('Records in user: {}'.format(user.count_documents({})))\n",
    "print('Records in bus:  {}'.format(bus.count_documents({})))\n",
    "print('Records in rev:  {}'.format(rev.count_documents({})))"
   ]
  },
  {
   "cell_type": "code",
   "execution_count": null,
   "metadata": {},
   "outputs": [],
   "source": []
  },
  {
   "cell_type": "code",
   "execution_count": 7,
   "metadata": {},
   "outputs": [
    {
     "name": "stdout",
     "output_type": "stream",
     "text": [
      "{'_id': ObjectId('5e38340c9a6a0b2983468f5e'), 'user_id': 'bc8C_eETBWL0olvFSJJd0w', 'name': 'David', 'review_count': 16, 'yelping_since': '2013-10-04 00:16:10', 'useful': 28, 'funny': 8, 'cool': 10, 'elite': '', 'friends': '4N-HU_T32hLENLntsNKNBg, pSY2vwWLgWfGVAAiKQzMng, lwhksSpgIyeYZor_HlN93w, v281gE-nk3jozr_5hWFAug, V7XFwm0baX37HRIduHmrXw, haSh72Q0MsQZUpWPeVgp0Q, bLbSNkLggFnqwNNzzq-Ijw, EKnCY7Tfxts4dexPrz63OQ, u_wqt9RshdZsoj8ikLqoEQ, J8FKQM1yvbwoKcuWRNh1yw, S9tC7Bp2sOLF_nwH-ksiIg, vNGs6_DP7ZbtPwX7finVIQ, 1IQ_d1RuMj8iIpcF2CDohA, WJqVJqhh7vNX51xLHEMEoQ, 5OllWsrKJsYo3XQK6siRKA', 'fans': 0, 'average_stars': 3.71, 'compliment_hot': 0, 'compliment_more': 0, 'compliment_profile': 0, 'compliment_cute': 0, 'compliment_list': 0, 'compliment_note': 1, 'compliment_plain': 0, 'compliment_cool': 0, 'compliment_funny': 0, 'compliment_writer': 0, 'compliment_photos': 0}\n"
     ]
    }
   ],
   "source": [
    "print(user.find_one())"
   ]
  },
  {
   "cell_type": "code",
   "execution_count": 79,
   "metadata": {},
   "outputs": [],
   "source": [
    "def load_subsample(collection, n_rows, new_collection):\n",
    "    \"Creates a new collection from a subset of the original dataset.\"\n",
    "    \n",
    "    r_samp = collection.aggregate([{\"$sample\": {\"size\": n_rows}}])\n",
    "\n",
    "    for doc in r_samp:\n",
    "        new_collection.insert_one(doc)"
   ]
  },
  {
   "cell_type": "code",
   "execution_count": 81,
   "metadata": {
    "scrolled": true
   },
   "outputs": [],
   "source": [
    "# Creating smaller samples for first pass\n",
    "\n",
    "user_50k = db['user_50k']\n",
    "rev_50k = db['rev_50k']\n",
    "# bus_50k = db['bus_50k']\n",
    "\n",
    "load_subsample(user, 50000, user_50k)\n",
    "load_subsample(rev, 50000, rev_50k)\n",
    "# load_subsample(bus, 50000, bus_50k)"
   ]
  },
  {
   "cell_type": "code",
   "execution_count": 82,
   "metadata": {
    "scrolled": true
   },
   "outputs": [
    {
     "name": "stderr",
     "output_type": "stream",
     "text": [
      "/home/ubuntu/anaconda3/lib/python3.7/site-packages/ipykernel_launcher.py:1: DeprecationWarning: count is deprecated. Use estimated_document_count or count_documents instead. Please note that $where must be replaced by $expr, $near must be replaced by $geoWithin with $center, and $nearSphere must be replaced by $geoWithin with $centerSphere\n",
      "  \"\"\"Entry point for launching an IPython kernel.\n"
     ]
    },
    {
     "data": {
      "text/plain": [
       "50000"
      ]
     },
     "execution_count": 82,
     "metadata": {},
     "output_type": "execute_result"
    }
   ],
   "source": [
    "rev_50k.count()"
   ]
  },
  {
   "cell_type": "code",
   "execution_count": 83,
   "metadata": {
    "scrolled": false
   },
   "outputs": [
    {
     "name": "stdout",
     "output_type": "stream",
     "text": [
      "[{'_id': ObjectId('5e38379a23e45989b9f8d6a6'), 'review_id': 'SW4MOF-LNsaO3fu5m7wKdg', 'user_id': 'uUdz50968e_R3k1LExcgYw', 'business_id': '148d7J-cFejkhYV89y3Jsg', 'stars': 2.0, 'useful': 2, 'funny': 0, 'cool': 0, 'text': \"Okay it's hard only putting two stars, but I think the price you pay is ridiculous. They charge you a pretty decent chunk of money for 2 people, and you have to ride with 2 other complete strangers...unless you want to cough up some more cash for a private gondola, AND you're also encouraged to tip them. Plus they take pictures of you, but expect you to pay $22 for ONE picture...yeah no. Anyway, the ride was maybe 10 minutes, we went on the outdoor one. It was a really nice day out and I thought it was neat how they sang to you and the Venetian is gorgeous, but still the price is crazy for what you get. I would say if you have the money, go for it, it's nice but not worth the price for the amount of time you get and sitting with people you don't know.\", 'date': '2013-12-29 06:36:15'}, {'_id': ObjectId('5e38381d23e45989b93319d1'), 'review_id': 'RQLpnu49uvMlz1f3GA9WZA', 'user_id': 'tI7hrrkhSHbDzXFf_awgKQ', 'business_id': 'Jzth-y32SyvOhJNgbIPTqQ', 'stars': 5.0, 'useful': 0, 'funny': 0, 'cool': 0, 'text': \"Kind of an interesting place - I think it reminds me of a old coffee house from the 70's but with food.\\n\\nSpeaking of food - it was amazing - lives up to its reputation- I enjoyed it and when I return to the are I will visit again.\\n\\nService was very orderly and efficient- I was concerned the lay (of service items) might make it difficult but no worries.\\n\\nIf you like her hummus - stop in!\", 'date': '2016-10-09 18:41:39'}, {'_id': ObjectId('5e38374023e45989b9d0e943'), 'review_id': 'qMTb4sNMlJVyRlJup1Sj5w', 'user_id': 'jgbQAX6KihBLyjGw_hCD-g', 'business_id': '8n4YzZ_A3zyvb4PpY_yhTg', 'stars': 5.0, 'useful': 1, 'funny': 0, 'cool': 0, 'text': \"I visit Jerry often and believe he serves up one of the best hot dogs around. I'm especially partial to his coney dog with cheese. Along with quality Vienna beef, he applies just the right amount of steam to soften it up.\\n\\nAlong with great dogs, Jerry is always upbeat and will put a smile on y\", 'date': '2013-10-04 21:10:38'}, {'_id': ObjectId('5e38374a23e45989b9d5bb0a'), 'review_id': 'jDCkVChVxJg09Jb187ECBQ', 'user_id': 'pOz8G2ezXNRx-yCyRi-0Dg', 'business_id': 'FhIeCF6QrsLaRvAeu0oEPQ', 'stars': 3.0, 'useful': 2, 'funny': 0, 'cool': 1, 'text': \"After hearing nothing but good things about the food, I decided to take my wife to Bob's for our anniversary.  I have to start off on the service, it was perfect. The waitress was friendly and helpful. The food was a different story. My wife and I both ordered the filet mignon and both ordered it  medium. Now being a steak fan and over the course of my life I have ordered plenty on steaks and what my wife got was medium-rare and mine was almost well-done, very inconsistent.  The steaks did have a very good flavor though.  I had the key lime pie for dessert which was good, but my wife ordered the creme brulee cheese cake, which was just a vanilla cheesecake with store bought crappy caramel sauce on it. Prices for what you get are high! No military discount, I was told they can't support that.\", 'date': '2011-12-15 04:45:04'}, {'_id': ObjectId('5e3837a023e45989b9fb6f63'), 'review_id': 'B2zN4SmUGCy3mkGMNxz8pg', 'user_id': 'os3Q5QS-pkxpIwVeeTB3kA', 'business_id': 'NcZYVjg1gqDONZW6MTVA2Q', 'stars': 1.0, 'useful': 0, 'funny': 0, 'cool': 0, 'text': \"It's cute inside and much bigger than it looks on the outside.  There was a line for Sunday brunch, but we moved at a steady pace and were seated in a while.\\n\\nBut sorry, I had not had coffee this terrible in a long time.  I don't know how they can make coffee this weak and tasteless, but they did.  My friend and I immediately looked at each other and decided to order latte to help the situation, but sadly their latte was as bad.  \\n\\nFood was much better.  My pancake was good, but the side was a bit too sweet.  All was fine, but the really bad coffee was so bad that we had to go to a coffee house after this to re-do our coffee part.  Cannot recommend a brunch place when they don't know how to make at least drinkable coffee.\", 'date': '2014-12-23 00:28:22'}, {'_id': ObjectId('5e38378523e45989b9efea46'), 'review_id': 'c95kPQzsU3_08yVNBeDvwQ', 'user_id': 'WIaVk95dGVH7Sm_Hxun15Q', 'business_id': 'eJNHwNoCk_hZbK8AeHDZ9g', 'stars': 4.0, 'useful': 0, 'funny': 0, 'cool': 0, 'text': \"The chicken and the ribs are down right slamm'n! Finger lickn yummy! So far the only side I like is the sauteed vegetables...staff pretty much ignores you the entire time your there...making less favorable to dine in.....but I by have to admit that I really don't care...lol...the chicken and ribs are surprisingly delicious!\", 'date': '2017-10-27 04:07:49'}, {'_id': ObjectId('5e3837ba23e45989b90729db'), 'review_id': 'kypDOq939u_My_RSejZB6g', 'user_id': 'yk_zzuEkoIJY6KEs_qO6-w', 'business_id': 'Bo8hpmBWPWHOv6cEEF7ueg', 'stars': 5.0, 'useful': 0, 'funny': 0, 'cool': 0, 'text': 'Food Was Absolutely Amazing! Staff was very nice and attentive. Loved the bar and lounge area, I will definitely be back!!', 'date': '2014-05-15 23:18:56'}, {'_id': ObjectId('5e3837ef23e45989b91ee0c1'), 'review_id': 'qDUtvfeWUliQkRJZL0La1A', 'user_id': '9nc-xGZ3ytXDn1GYwK2Pig', 'business_id': 'RMG_Sp9tVZ-j3WfQoxxbeg', 'stars': 5.0, 'useful': 0, 'funny': 0, 'cool': 0, 'text': 'Absolutely fantastic rolls! Generous portions, perfect rice, and very fresh. Very reasonable.  We had take out, and service was speedy and friendly. My new fav place.', 'date': '2016-07-22 22:27:34'}, {'_id': ObjectId('5e3837ec23e45989b91d5f34'), 'review_id': 'PLdZzVZfTHVj-Tu7_ENdRg', 'user_id': 'zlwRMm5aHSd8wbJRv_u3dw', 'business_id': 'JogUSDKa1xyG3lLEmD4Xjg', 'stars': 5.0, 'useful': 0, 'funny': 0, 'cool': 0, 'text': 'My husband and I had our first date here and this continues to be a special place that we celebrate any special occasion and every anniversary. The experience is never disappointing--- service is excellent and food always amazing.  \\n\\nThis family owned restaurant is extremely passionate about their delicious Italian food, wine,  and your dining experience!', 'date': '2017-06-03 00:48:09'}, {'_id': ObjectId('5e38381a23e45989b93189aa'), 'review_id': 'TNgQAe1NnEN_UAOjCFafGg', 'user_id': 'pY1_KLvlJmEDNyOGWbYquA', 'business_id': 'h3pMMRwqBjMeMtk0_qQzRQ', 'stars': 1.0, 'useful': 2, 'funny': 3, 'cool': 0, 'text': \"Server/bartender was unatttentive with little personality on a very slow Monday early afternoon.\\n\\nShe chatted it up with a customer that came in that was clearly a close friend. Gossiped the whole time I was trying to enjoy my lunch.\\n\\nI had the chicken piccata. The sauce was decent but the chicken was very bland. The calamari was rubbery and my boyfriends lasagna was watery with little cheese in the middle. \\n\\nWe waited 5 minutes for our check when she stood there and folded napkins. When we were the only table in the building. \\n\\nOverall I won't be coming back\", 'date': '2014-12-08 23:13:13'}]\n"
     ]
    }
   ],
   "source": [
    "sample = rev_50k.find({}, limit=10)\n",
    "print(list(sample))"
   ]
  },
  {
   "cell_type": "code",
   "execution_count": 88,
   "metadata": {},
   "outputs": [],
   "source": [
    "df = pd.DataFrame(list(rev_50k.find({}, {\n",
    "                                        \"review_id\": 1,\n",
    "                                        \"user_id\": 1,\n",
    "                                        \"stars\": 1,\n",
    "                                        \"text\": 1})))"
   ]
  },
  {
   "cell_type": "code",
   "execution_count": 89,
   "metadata": {},
   "outputs": [
    {
     "data": {
      "text/html": [
       "<div>\n",
       "<style scoped>\n",
       "    .dataframe tbody tr th:only-of-type {\n",
       "        vertical-align: middle;\n",
       "    }\n",
       "\n",
       "    .dataframe tbody tr th {\n",
       "        vertical-align: top;\n",
       "    }\n",
       "\n",
       "    .dataframe thead th {\n",
       "        text-align: right;\n",
       "    }\n",
       "</style>\n",
       "<table border=\"1\" class=\"dataframe\">\n",
       "  <thead>\n",
       "    <tr style=\"text-align: right;\">\n",
       "      <th></th>\n",
       "      <th>_id</th>\n",
       "      <th>review_id</th>\n",
       "      <th>user_id</th>\n",
       "      <th>stars</th>\n",
       "      <th>text</th>\n",
       "    </tr>\n",
       "  </thead>\n",
       "  <tbody>\n",
       "    <tr>\n",
       "      <td>0</td>\n",
       "      <td>5e38379a23e45989b9f8d6a6</td>\n",
       "      <td>SW4MOF-LNsaO3fu5m7wKdg</td>\n",
       "      <td>uUdz50968e_R3k1LExcgYw</td>\n",
       "      <td>2.0</td>\n",
       "      <td>Okay it's hard only putting two stars, but I t...</td>\n",
       "    </tr>\n",
       "    <tr>\n",
       "      <td>1</td>\n",
       "      <td>5e38381d23e45989b93319d1</td>\n",
       "      <td>RQLpnu49uvMlz1f3GA9WZA</td>\n",
       "      <td>tI7hrrkhSHbDzXFf_awgKQ</td>\n",
       "      <td>5.0</td>\n",
       "      <td>Kind of an interesting place - I think it remi...</td>\n",
       "    </tr>\n",
       "    <tr>\n",
       "      <td>2</td>\n",
       "      <td>5e38374023e45989b9d0e943</td>\n",
       "      <td>qMTb4sNMlJVyRlJup1Sj5w</td>\n",
       "      <td>jgbQAX6KihBLyjGw_hCD-g</td>\n",
       "      <td>5.0</td>\n",
       "      <td>I visit Jerry often and believe he serves up o...</td>\n",
       "    </tr>\n",
       "    <tr>\n",
       "      <td>3</td>\n",
       "      <td>5e38374a23e45989b9d5bb0a</td>\n",
       "      <td>jDCkVChVxJg09Jb187ECBQ</td>\n",
       "      <td>pOz8G2ezXNRx-yCyRi-0Dg</td>\n",
       "      <td>3.0</td>\n",
       "      <td>After hearing nothing but good things about th...</td>\n",
       "    </tr>\n",
       "    <tr>\n",
       "      <td>4</td>\n",
       "      <td>5e3837a023e45989b9fb6f63</td>\n",
       "      <td>B2zN4SmUGCy3mkGMNxz8pg</td>\n",
       "      <td>os3Q5QS-pkxpIwVeeTB3kA</td>\n",
       "      <td>1.0</td>\n",
       "      <td>It's cute inside and much bigger than it looks...</td>\n",
       "    </tr>\n",
       "  </tbody>\n",
       "</table>\n",
       "</div>"
      ],
      "text/plain": [
       "                        _id               review_id                 user_id  \\\n",
       "0  5e38379a23e45989b9f8d6a6  SW4MOF-LNsaO3fu5m7wKdg  uUdz50968e_R3k1LExcgYw   \n",
       "1  5e38381d23e45989b93319d1  RQLpnu49uvMlz1f3GA9WZA  tI7hrrkhSHbDzXFf_awgKQ   \n",
       "2  5e38374023e45989b9d0e943  qMTb4sNMlJVyRlJup1Sj5w  jgbQAX6KihBLyjGw_hCD-g   \n",
       "3  5e38374a23e45989b9d5bb0a  jDCkVChVxJg09Jb187ECBQ  pOz8G2ezXNRx-yCyRi-0Dg   \n",
       "4  5e3837a023e45989b9fb6f63  B2zN4SmUGCy3mkGMNxz8pg  os3Q5QS-pkxpIwVeeTB3kA   \n",
       "\n",
       "   stars                                               text  \n",
       "0    2.0  Okay it's hard only putting two stars, but I t...  \n",
       "1    5.0  Kind of an interesting place - I think it remi...  \n",
       "2    5.0  I visit Jerry often and believe he serves up o...  \n",
       "3    3.0  After hearing nothing but good things about th...  \n",
       "4    1.0  It's cute inside and much bigger than it looks...  "
      ]
     },
     "execution_count": 89,
     "metadata": {},
     "output_type": "execute_result"
    }
   ],
   "source": [
    "df.head()"
   ]
  },
  {
   "cell_type": "code",
   "execution_count": 96,
   "metadata": {},
   "outputs": [
    {
     "data": {
      "image/png": "[encoded data removed]",
      "text/plain": [
       "<Figure size 432x288 with 1 Axes>"
      ]
     },
     "metadata": {
      "needs_background": "light"
     },
     "output_type": "display_data"
    }
   ],
   "source": [
    "_ = df[['stars', 'review_id']].groupby('stars').count().plot(kind='bar', title='Count of stars')"
   ]
  },
  {
   "cell_type": "code",
   "execution_count": null,
   "metadata": {},
   "outputs": [],
   "source": []
  }
 ],
 "metadata": {
  "kernelspec": {
   "display_name": "Python 3",
   "language": "python",
   "name": "python3"
  },
  "language_info": {
   "codemirror_mode": {
    "name": "ipython",
    "version": 3
   },
   "file_extension": ".py",
   "mimetype": "text/x-python",
   "name": "python",
   "nbconvert_exporter": "python",
   "pygments_lexer": "ipython3",
   "version": "3.7.4"
  }
 },
 "nbformat": 4,
 "nbformat_minor": 2
}
